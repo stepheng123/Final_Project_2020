{
 "metadata": {
  "language_info": {
   "codemirror_mode": {
    "name": "ipython",
    "version": 3
   },
   "file_extension": ".py",
   "mimetype": "text/x-python",
   "name": "python",
   "nbconvert_exporter": "python",
   "pygments_lexer": "ipython3",
   "version": "3.7.7-final"
  },
  "orig_nbformat": 2,
  "kernelspec": {
   "name": "Python 3.7.7 64-bit ('ProgramData': virtualenv)",
   "display_name": "Python 3.7.7 64-bit ('ProgramData': virtualenv)",
   "metadata": {
    "interpreter": {
     "hash": "b3ba2566441a7c06988d0923437866b63cedc61552a5af99d1f4fb67d367b25f"
    }
   }
  }
 },
 "nbformat": 4,
 "nbformat_minor": 2,
 "cells": [
  {
   "cell_type": "code",
   "execution_count": 1,
   "metadata": {},
   "outputs": [],
   "source": [
    "import pandas as pd"
   ]
  },
  {
   "cell_type": "code",
   "execution_count": 2,
   "metadata": {},
   "outputs": [
    {
     "output_type": "execute_result",
     "data": {
      "text/plain": [
       "            Year    1987    1988    1989    1990    1991    1992    1993  \\\n",
       "0          China     834     997   1,355   1,456   1,865   2,549   3,225   \n",
       "1  United States  10,820  12,122  15,207  15,983  15,817  16,391  17,301   \n",
       "2          Japan   8,606   9,601  11,769  10,641  10,018  11,377  13,264   \n",
       "3        Germany   3,131   3,215   3,739   3,828   3,585   3,706   4,042   \n",
       "4       Thailand     509     596     822     853     887   1,055   1,134   \n",
       "\n",
       "     1994    1995  ...    2010    2011    2012    2013    2014    2015  \\\n",
       "0   3,745   4,320  ...  40,924  43,919  46,442  49,571  54,460  64,377   \n",
       "1  19,019  21,252  ...  36,378  40,712  43,310  41,003  43,392  49,372   \n",
       "2  13,650  13,586  ...  20,573  20,079  21,420  21,609  20,096  23,027   \n",
       "3   4,540   5,676  ...  12,640  12,678  13,403  14,133  14,743  15,570   \n",
       "4   1,241   1,424  ...  13,266  11,066  13,085  14,287  13,266  15,805   \n",
       "\n",
       "     2016    2017    2018    2019  \n",
       "0  62,323  67,448  78,303  82,842  \n",
       "1  44,954  47,332  50,865  55,533  \n",
       "2  22,824  24,813  26,988  26,357  \n",
       "3  16,472  16,992  18,772  18,184  \n",
       "4  16,878  17,213  17,914  17,385  \n",
       "\n",
       "[5 rows x 34 columns]"
      ],
      "text/html": "<div>\n<style scoped>\n    .dataframe tbody tr th:only-of-type {\n        vertical-align: middle;\n    }\n\n    .dataframe tbody tr th {\n        vertical-align: top;\n    }\n\n    .dataframe thead th {\n        text-align: right;\n    }\n</style>\n<table border=\"1\" class=\"dataframe\">\n  <thead>\n    <tr style=\"text-align: right;\">\n      <th></th>\n      <th>Year</th>\n      <th>1987</th>\n      <th>1988</th>\n      <th>1989</th>\n      <th>1990</th>\n      <th>1991</th>\n      <th>1992</th>\n      <th>1993</th>\n      <th>1994</th>\n      <th>1995</th>\n      <th>...</th>\n      <th>2010</th>\n      <th>2011</th>\n      <th>2012</th>\n      <th>2013</th>\n      <th>2014</th>\n      <th>2015</th>\n      <th>2016</th>\n      <th>2017</th>\n      <th>2018</th>\n      <th>2019</th>\n    </tr>\n  </thead>\n  <tbody>\n    <tr>\n      <th>0</th>\n      <td>China</td>\n      <td>834</td>\n      <td>997</td>\n      <td>1,355</td>\n      <td>1,456</td>\n      <td>1,865</td>\n      <td>2,549</td>\n      <td>3,225</td>\n      <td>3,745</td>\n      <td>4,320</td>\n      <td>...</td>\n      <td>40,924</td>\n      <td>43,919</td>\n      <td>46,442</td>\n      <td>49,571</td>\n      <td>54,460</td>\n      <td>64,377</td>\n      <td>62,323</td>\n      <td>67,448</td>\n      <td>78,303</td>\n      <td>82,842</td>\n    </tr>\n    <tr>\n      <th>1</th>\n      <td>United States</td>\n      <td>10,820</td>\n      <td>12,122</td>\n      <td>15,207</td>\n      <td>15,983</td>\n      <td>15,817</td>\n      <td>16,391</td>\n      <td>17,301</td>\n      <td>19,019</td>\n      <td>21,252</td>\n      <td>...</td>\n      <td>36,378</td>\n      <td>40,712</td>\n      <td>43,310</td>\n      <td>41,003</td>\n      <td>43,392</td>\n      <td>49,372</td>\n      <td>44,954</td>\n      <td>47,332</td>\n      <td>50,865</td>\n      <td>55,533</td>\n    </tr>\n    <tr>\n      <th>2</th>\n      <td>Japan</td>\n      <td>8,606</td>\n      <td>9,601</td>\n      <td>11,769</td>\n      <td>10,641</td>\n      <td>10,018</td>\n      <td>11,377</td>\n      <td>13,264</td>\n      <td>13,650</td>\n      <td>13,586</td>\n      <td>...</td>\n      <td>20,573</td>\n      <td>20,079</td>\n      <td>21,420</td>\n      <td>21,609</td>\n      <td>20,096</td>\n      <td>23,027</td>\n      <td>22,824</td>\n      <td>24,813</td>\n      <td>26,988</td>\n      <td>26,357</td>\n    </tr>\n    <tr>\n      <th>3</th>\n      <td>Germany</td>\n      <td>3,131</td>\n      <td>3,215</td>\n      <td>3,739</td>\n      <td>3,828</td>\n      <td>3,585</td>\n      <td>3,706</td>\n      <td>4,042</td>\n      <td>4,540</td>\n      <td>5,676</td>\n      <td>...</td>\n      <td>12,640</td>\n      <td>12,678</td>\n      <td>13,403</td>\n      <td>14,133</td>\n      <td>14,743</td>\n      <td>15,570</td>\n      <td>16,472</td>\n      <td>16,992</td>\n      <td>18,772</td>\n      <td>18,184</td>\n    </tr>\n    <tr>\n      <th>4</th>\n      <td>Thailand</td>\n      <td>509</td>\n      <td>596</td>\n      <td>822</td>\n      <td>853</td>\n      <td>887</td>\n      <td>1,055</td>\n      <td>1,134</td>\n      <td>1,241</td>\n      <td>1,424</td>\n      <td>...</td>\n      <td>13,266</td>\n      <td>11,066</td>\n      <td>13,085</td>\n      <td>14,287</td>\n      <td>13,266</td>\n      <td>15,805</td>\n      <td>16,878</td>\n      <td>17,213</td>\n      <td>17,914</td>\n      <td>17,385</td>\n    </tr>\n  </tbody>\n</table>\n<p>5 rows × 34 columns</p>\n</div>"
     },
     "metadata": {},
     "execution_count": 2
    }
   ],
   "source": [
    "df = pd.read_csv('aus_trade.csv')\n",
    "df.head()"
   ]
  },
  {
   "cell_type": "code",
   "execution_count": 3,
   "metadata": {},
   "outputs": [],
   "source": [
    "df.to_html('aus_trade.html', index=False)"
   ]
  },
  {
   "cell_type": "code",
   "execution_count": null,
   "metadata": {},
   "outputs": [],
   "source": []
  }
 ]
}